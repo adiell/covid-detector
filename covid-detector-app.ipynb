{
 "cells": [
  {
   "cell_type": "markdown",
   "metadata": {},
   "source": [
    "# Covid detector app"
   ]
  },
  {
   "cell_type": "markdown",
   "metadata": {},
   "source": [
    "## We'll tell you if you have covid-19 without the need for an intrusive test\n",
    "\n"
   ]
  },
  {
   "cell_type": "code",
   "execution_count": 3,
   "metadata": {},
   "outputs": [],
   "source": [
    "import warnings\n",
    "warnings.filterwarnings(\"ignore\", category = ImportWarning)\n",
    "\n",
    "from fastbook import *\n",
    "from fastai.vision.widgets import *"
   ]
  },
  {
   "cell_type": "code",
   "execution_count": 4,
   "metadata": {},
   "outputs": [],
   "source": [
    "learn_inf = load_learner('covid-detection-model.pkl')"
   ]
  },
  {
   "cell_type": "code",
   "execution_count": 5,
   "metadata": {},
   "outputs": [],
   "source": [
    "btn_upload = widgets.FileUpload()\n",
    "lbl_pred = widgets.Label()\n",
    "btn_run = widgets.Button(description='Detect')\n",
    "out_pl = widgets.Output()\n"
   ]
  },
  {
   "cell_type": "code",
   "execution_count": 6,
   "metadata": {},
   "outputs": [],
   "source": [
    "        \n",
    "def show_prediction(covid_prob):\n",
    "    if covid_prob<0.2:\n",
    "        lbl_pred.value = \"You're good. Enjoy life! Just keep the mask on\"\n",
    "    elif covid_prob<0.4:\n",
    "        lbl_pred.value = \"You probably don't have covid-19, but better take a real test to be on the safe side\"\n",
    "    elif covid_prob<0.6:\n",
    "        lbl_pred.value = \"Not sure what is going on. Please try again later with a new image\"\n",
    "    elif covid_prob<0.8:\n",
    "        lbl_pred.value = \"You are likely to have covid-19. Please stay at home under all circumstances!\"\n",
    "    elif covid_prob<0.99:\n",
    "        lbl_pred.value = \"You are very likely to have covid-19. Reach out to get medical assistance ASAP\"\n",
    "    else:\n",
    "        lbl_pred.value = \"Stay away from me!!!\"\n",
    "              \n",
    "\n",
    "def on_click_classify(change):\n",
    "    img = PILImage.create(btn_upload.data[-1])\n",
    "    out_pl.clear_output()\n",
    "    with out_pl: display(img.to_thumb(224))\n",
    "    pred,pred_idx,probs = learn_inf.predict(img)\n",
    "    show_prediction(probs[0])\n",
    "\n",
    "\n",
    "btn_run.on_click(on_click_classify)"
   ]
  },
  {
   "cell_type": "code",
   "execution_count": 7,
   "metadata": {},
   "outputs": [
    {
     "data": {
      "application/vnd.jupyter.widget-view+json": {
       "model_id": "6019d9ee41cb438ab6b6271edd45f2a5",
       "version_major": 2,
       "version_minor": 0
      },
      "text/plain": [
       "VBox(children=(Label(value=\"Upload an image and I'll tell if you have covid-19\"), FileUpload(value={}, descrip…"
      ]
     },
     "metadata": {},
     "output_type": "display_data"
    },
    {
     "data": {
      "text/html": [],
      "text/plain": [
       "<IPython.core.display.HTML object>"
      ]
     },
     "metadata": {},
     "output_type": "display_data"
    }
   ],
   "source": [
    "VBox([widgets.Label('Upload an image and I\\'ll tell if you have covid-19'), \n",
    "      btn_upload, \n",
    "      btn_run, \n",
    "      out_pl, \n",
    "      lbl_pred])"
   ]
  },
  {
   "cell_type": "code",
   "execution_count": null,
   "metadata": {},
   "outputs": [],
   "source": []
  }
 ],
 "metadata": {
  "kernelspec": {
   "display_name": "Python 3",
   "language": "python",
   "name": "python3"
  },
  "language_info": {
   "codemirror_mode": {
    "name": "ipython",
    "version": 3
   },
   "file_extension": ".py",
   "mimetype": "text/x-python",
   "name": "python",
   "nbconvert_exporter": "python",
   "pygments_lexer": "ipython3",
   "version": "3.7.5"
  }
 },
 "nbformat": 4,
 "nbformat_minor": 4
}
